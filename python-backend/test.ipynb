{
 "cells": [
  {
   "cell_type": "code",
   "execution_count": 2,
   "metadata": {},
   "outputs": [],
   "source": [
    "import csv\n",
    "import sqlite3\n",
    "from datetime import datetime, timezone, timedelta\n",
    "\n",
    "con = sqlite3.connect('file:database.db?mode=ro', uri=True, detect_types=sqlite3.PARSE_DECLTYPES|sqlite3.PARSE_COLNAMES)\n",
    "cur = con.cursor()"
   ]
  },
  {
   "cell_type": "code",
   "execution_count": 13,
   "metadata": {},
   "outputs": [
    {
     "data": {
      "text/plain": [
       "[('Apartamentos Don Miguel',\n",
       "  854,\n",
       "  datetime.datetime(2022, 9, 23, 19, 15),\n",
       "  datetime.datetime(2022, 9, 30, 7, 20),\n",
       "  2,\n",
       "  0,\n",
       "  894,\n",
       "  'PMI',\n",
       "  'MUC',\n",
       "  'DE',\n",
       "  datetime.datetime(2022, 9, 30, 9, 25),\n",
       "  'MUC',\n",
       "  'PMI',\n",
       "  'DE',\n",
       "  datetime.datetime(2022, 9, 23, 21, 25),\n",
       "  'none',\n",
       "  0,\n",
       "  'apartment'),\n",
       " ('HSM Son Veri',\n",
       "  254,\n",
       "  datetime.datetime(2022, 9, 20, 4, 0),\n",
       "  datetime.datetime(2022, 9, 27, 7, 10),\n",
       "  2,\n",
       "  0,\n",
       "  848,\n",
       "  'PMI',\n",
       "  'MUC',\n",
       "  'DE',\n",
       "  datetime.datetime(2022, 9, 27, 9, 15),\n",
       "  'MUC',\n",
       "  'PMI',\n",
       "  'DE',\n",
       "  datetime.datetime(2022, 9, 20, 6, 10),\n",
       "  'breakfast',\n",
       "  0,\n",
       "  'economy'),\n",
       " ('BG Rei del Mediterrani Palace - Erwachsenenhotel ab 16 Jahren',\n",
       "  449,\n",
       "  datetime.datetime(2022, 8, 2, 16, 0),\n",
       "  datetime.datetime(2022, 8, 3, 7, 25),\n",
       "  2,\n",
       "  0,\n",
       "  722,\n",
       "  'PMI',\n",
       "  'MUC',\n",
       "  'DE',\n",
       "  datetime.datetime(2022, 8, 3, 9, 30),\n",
       "  'MUC',\n",
       "  'PMI',\n",
       "  'EWG',\n",
       "  datetime.datetime(2022, 8, 2, 18, 15),\n",
       "  'none',\n",
       "  0,\n",
       "  'double'),\n",
       " ('Triton Beach',\n",
       "  1105,\n",
       "  datetime.datetime(2022, 9, 23, 19, 15),\n",
       "  datetime.datetime(2022, 9, 27, 6, 55),\n",
       "  2,\n",
       "  0,\n",
       "  763,\n",
       "  'PMI',\n",
       "  'MUC',\n",
       "  'EW',\n",
       "  datetime.datetime(2022, 9, 27, 9, 5),\n",
       "  'MUC',\n",
       "  'PMI',\n",
       "  'DE',\n",
       "  datetime.datetime(2022, 9, 23, 21, 25),\n",
       "  'breakfast',\n",
       "  0,\n",
       "  'double'),\n",
       " ('TUI SUNEO Santa Ponsa',\n",
       "  782,\n",
       "  datetime.datetime(2022, 9, 23, 19, 15),\n",
       "  datetime.datetime(2022, 9, 30, 7, 20),\n",
       "  2,\n",
       "  0,\n",
       "  874,\n",
       "  'PMI',\n",
       "  'MUC',\n",
       "  'DE',\n",
       "  datetime.datetime(2022, 9, 30, 9, 25),\n",
       "  'MUC',\n",
       "  'PMI',\n",
       "  'DE',\n",
       "  datetime.datetime(2022, 9, 23, 21, 25),\n",
       "  'halfboard',\n",
       "  0,\n",
       "  'double')]"
      ]
     },
     "execution_count": 13,
     "metadata": {},
     "output_type": "execute_result"
    }
   ],
   "source": [
    "cur.execute('''\n",
    "SELECT DISTINCT h.name, o.*\n",
    "FROM hotels as h, offers as o\n",
    "WHERE h.id=o.hotelid\n",
    "    AND o.inboundarrivalairport='MUC'\n",
    "    AND o.outbounddepartureairport='MUC'\n",
    "    AND o.price<1000\n",
    "    AND o.countadults=2 AND o.countchildren=0\n",
    "    AND o.departuredate BETWEEN '2022-02-01' AND '2022-12-31'\n",
    "--ORDER BY o.price\n",
    "LIMIT 50\n",
    "''').fetchmany(5)"
   ]
  },
  {
   "cell_type": "markdown",
   "metadata": {},
   "source": []
  }
 ],
 "metadata": {
  "kernelspec": {
   "display_name": "Python 3.10.0 64-bit",
   "language": "python",
   "name": "python3"
  },
  "language_info": {
   "codemirror_mode": {
    "name": "ipython",
    "version": 3
   },
   "file_extension": ".py",
   "mimetype": "text/x-python",
   "name": "python",
   "nbconvert_exporter": "python",
   "pygments_lexer": "ipython3",
   "version": "3.10.0"
  },
  "orig_nbformat": 4,
  "vscode": {
   "interpreter": {
    "hash": "e36134236f34e318bcf1f59f68bd5d5099453b17546135f60a786993702d7372"
   }
  }
 },
 "nbformat": 4,
 "nbformat_minor": 2
}
