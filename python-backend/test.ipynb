{
 "cells": [
  {
   "cell_type": "code",
   "execution_count": 2,
   "metadata": {},
   "outputs": [],
   "source": [
    "import csv\n",
    "import sqlite3\n",
    "from datetime import datetime, timezone, timedelta\n",
    "\n",
    "con = sqlite3.connect('file:database.db?mode=ro', uri=True, detect_types=sqlite3.PARSE_DECLTYPES|sqlite3.PARSE_COLNAMES)\n",
    "cur = con.cursor()"
   ]
  },
  {
   "cell_type": "code",
   "execution_count": 36,
   "metadata": {},
   "outputs": [
    {
     "data": {
      "text/plain": [
       "[]"
      ]
     },
     "execution_count": 36,
     "metadata": {},
     "output_type": "execute_result"
    }
   ],
   "source": [
    "q = '''\n",
    "SELECT o.*\n",
    "--FROM hotels as h, offers as o\n",
    "FROM offers as o\n",
    "WHERE --h.id=o.hotelid\n",
    "    o.inbounddepartureairport != 'PMI' OR o.outboundarrivalairport != 'PMI'\n",
    "    --AND o.inboundarrivalairport != o.outbounddepartureairport\n",
    "    --AND o.oceanview = TRUE\n",
    "    --AND o.price<800\n",
    "    --AND o.countadults=2 AND o.countchildren=0\n",
    "    --AND o.departuredate BETWEEN '2022-10-01' AND '2022-10-10'\n",
    "--GROUP BY o.hotelid\n",
    "--ORDER BY o.price\n",
    "--LIMIT 50\n",
    "'''\n",
    "\n",
    "\n",
    "res = cur.execute(q)\n",
    "res.fetchall()\n",
    "# res.fetchmany(5)"
   ]
  },
  {
   "cell_type": "code",
   "execution_count": 33,
   "metadata": {},
   "outputs": [
    {
     "data": {
      "text/plain": [
       "[('smartline Millor Sol',),\n",
       " ('La Singala',),\n",
       " ('Pierre & Vacances Residence Mallorca Cecilia',),\n",
       " ('Galaxia Boutique Hotel',),\n",
       " ('Bellevue Lagomonte',),\n",
       " ('Pinomar - Erwachsenenhotel ab 18 Jahren',),\n",
       " ('Eden Nord',),\n",
       " ('Arcos Playa',),\n",
       " ('Globales America',),\n",
       " ('Torre Azul Spa - Erwachsenenhotel ab 16 Jahren',),\n",
       " ('La Victoria Hostatgeria',),\n",
       " ('Finca Sa Bassa Plana',),\n",
       " (\"Ca'n Bestard\",),\n",
       " ('Forn Nou',),\n",
       " ('Can Vent Boutique',),\n",
       " ('whala!beach',),\n",
       " ('Hotel Fenix - Erwachsenenhotel',),\n",
       " ('Cook´s Club Palma Beach - Erwachsenenhotel',),\n",
       " ('Sol Cala d´Or Apartamentos',),\n",
       " ('MLL Caribbean Bay',),\n",
       " ('Hostal Diana',),\n",
       " ('Vista Odin',),\n",
       " ('Econotel Las Palomas',),\n",
       " ('Hospederia Santuari de Cura',),\n",
       " ('Sentido Fido Punta del Mar - Erwachsenenhotel',),\n",
       " ('Pinos Playa',),\n",
       " ('Hotel Mirador',),\n",
       " ('Pabisa Sofia',),\n",
       " ('Ferrer Janeiro Hotel & Spa',),\n",
       " ('Casa Galileo',),\n",
       " ('Santuari de Lluc',),\n",
       " ('Costa Mediterraneo',),\n",
       " ('Hoteles & Apartamentos La Santa Maria',),\n",
       " ('Melia Palma Bay',),\n",
       " ('Hotel Linda',),\n",
       " ('Petit Hotel Hostatgeria Sant Salvador',),\n",
       " ('Es Baulo Petit Hotel',),\n",
       " ('Hotel La Concha Soul',),\n",
       " ('FERGUS Style Cala Blanca Suites',),\n",
       " ('Amazonas',),\n",
       " ('BQ Can Picafort',),\n",
       " ('Hostal Alcina',),\n",
       " ('H10 Casa del Mar',),\n",
       " ('Prinsotel La Pineda',),\n",
       " ('Illa d´Or Hotel & Club Apartamentos',),\n",
       " ('tent Palmanova',),\n",
       " ('Hipotels Eurotel Punta Rotja',),\n",
       " ('Aparthotel Paguera Beach',),\n",
       " ('Hotel Santa Ponsa Pins',),\n",
       " ('D´Alt Muntanya',)]"
      ]
     },
     "execution_count": 33,
     "metadata": {},
     "output_type": "execute_result"
    }
   ],
   "source": [
    "q = '''\n",
    "SELECT DISTINCT h.name\n",
    "FROM hotels as h, offers as o\n",
    "WHERE h.id=o.hotelid\n",
    "  AND o.price BETWEEN ? AND ?\n",
    "  AND o.outbounddepartureairport=?\n",
    "  AND o.inboundarrivalairport=?\n",
    "--GROUP BY o.hotelid\n",
    "LIMIT 50\n",
    "    '''\n",
    "result = cur.execute(q, (305, 306, 'MUC', 'MUC'))\n",
    "result.fetchall()"
   ]
  },
  {
   "cell_type": "markdown",
   "metadata": {},
   "source": []
  }
 ],
 "metadata": {
  "kernelspec": {
   "display_name": "Python 3.10.0 64-bit",
   "language": "python",
   "name": "python3"
  },
  "language_info": {
   "codemirror_mode": {
    "name": "ipython",
    "version": 3
   },
   "file_extension": ".py",
   "mimetype": "text/x-python",
   "name": "python",
   "nbconvert_exporter": "python",
   "pygments_lexer": "ipython3",
   "version": "3.10.0"
  },
  "orig_nbformat": 4,
  "vscode": {
   "interpreter": {
    "hash": "e36134236f34e318bcf1f59f68bd5d5099453b17546135f60a786993702d7372"
   }
  }
 },
 "nbformat": 4,
 "nbformat_minor": 2
}
